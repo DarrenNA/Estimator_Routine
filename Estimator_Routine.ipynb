{
 "cells": [
  {
   "cell_type": "code",
   "execution_count": 21,
   "id": "4ccdf7b2",
   "metadata": {},
   "outputs": [],
   "source": [
    "#Importing the required libraries ands set\n",
    "import time\n",
    "import numpy as np\n",
    "from qiskit import *\n",
    "from qiskit.circuit import Parameter\n",
    "from qiskit.quantum_info import Statevector, Pauli, SparsePauliOp\n",
    "from qiskit.circuit.library import RealAmplitudes\n",
    "import matplotlib.pyplot as plt\n",
    "import matplotlib.ticker as tck\n",
    "from qiskit.tools.visualization import plot_histogram\n",
    "# %config InlineBackend.figure_format='retina'\n",
    "from qiskit_ibm_runtime import QiskitRuntimeService, Session, Options, Sampler, Estimator\n",
    "from qiskit import IBMQ, Aer\n",
    "from qiskit.providers.ibmq import least_busy\n",
    "from qiskit import QuantumCircuit, ClassicalRegister, QuantumRegister, transpile\n",
    "# import basic plot tools\n",
    "from qiskit.visualization import plot_histogram\n",
    "from qiskit_ibm_runtime import QiskitRuntimeService, Session, Options, Sampler, Estimator"
   ]
  },
  {
   "cell_type": "code",
   "execution_count": 22,
   "id": "c576bfd1",
   "metadata": {},
   "outputs": [],
   "source": [
    "# Save the Runtime account credentials if you have not done so already\n",
    "# If you need to overwrite the account info, please add `overwrite=True`\n",
    "#QiskitRuntimeService.save_account(channel='ibm_quantum', token='YOUR TOKKEN', overwrite=True)"
   ]
  },
  {
   "cell_type": "code",
   "execution_count": 23,
   "id": "827f24ad",
   "metadata": {},
   "outputs": [],
   "source": [
    "service = QiskitRuntimeService(channel='ibm_quantum')"
   ]
  },
  {
   "cell_type": "code",
   "execution_count": 34,
   "id": "f8c1c5f1",
   "metadata": {},
   "outputs": [
    {
     "name": "stdout",
     "output_type": "stream",
     "text": [
      "<IBMBackend('ibmq_qasm_simulator')>\n"
     ]
    }
   ],
   "source": [
    "#defining the backend we will be using \n",
    "backend = service.backends(simulator=True)[0]\n",
    "print(backend)"
   ]
  },
  {
   "cell_type": "code",
   "execution_count": 35,
   "id": "78e4a1a9",
   "metadata": {},
   "outputs": [],
   "source": [
    "# Make three random circuits using RealAmplitudes\n",
    "\n",
    "psi1 = RealAmplitudes(5,reps=2)\n",
    "psi2 = RealAmplitudes(5,reps=3)\n",
    "psi3 = RealAmplitudes(5,reps=4)"
   ]
  },
  {
   "cell_type": "code",
   "execution_count": 36,
   "id": "290b26a1",
   "metadata": {},
   "outputs": [],
   "source": [
    "# Make hamiltonians using SparsePauliOp\n",
    "\n",
    "H1 = SparsePauliOp.from_list([(\"IIZXI\",1), (\"YIIIY\",3) ])\n",
    "H2 = SparsePauliOp.from_list([(\"IXIII\",2)])\n",
    "H3 = SparsePauliOp.from_list([(\"IIYII\",3), (\"IXIZI\",5) ])"
   ]
  },
  {
   "cell_type": "code",
   "execution_count": 37,
   "id": "d97fe120",
   "metadata": {},
   "outputs": [],
   "source": [
    "# Make a list of evenly spaced values for theta between 0 and 1\n",
    "\n",
    "theta1 = np.linspace(0,1,num=15)\n",
    "theta2 = np.linspace(0,1,num=20)\n",
    "theta3 = np.linspace(0,1,num=25)"
   ]
  },
  {
   "cell_type": "code",
   "execution_count": 38,
   "id": "fc79b59c",
   "metadata": {},
   "outputs": [
    {
     "name": "stdout",
     "output_type": "stream",
     "text": [
      "EstimatorResult(values=array([ 0.003 ,  1.749 , -1.0685]), metadata=[{'variance': 9.999775, 'shots': 4000}, {'variance': 0.9409989999999997, 'shots': 4000}, {'variance': 33.04502775, 'shots': 4000}])\n"
     ]
    }
   ],
   "source": [
    "# Use the Estimator to calculate each expectation value\n",
    "\n",
    "with Session(service=service, backend=backend):\n",
    "    \n",
    "    options = Options(simulator={\"seed_simulator\": 42}, resilience_level=0) # Do not change values in simulator\n",
    "    \n",
    "    estimator = Estimator(options=options)\n",
    "    \n",
    "    # Now we calculate [ <psi1(theta1)|H1|psi1(theta1)>,\n",
    "    #                    <psi2(theta2)|H2|psi2(theta2)>,\n",
    "    #                    <psi3(theta3)|H3|psi3(theta3)> ]\n",
    "    # Note: Please keep the order\n",
    "    job = estimator.run(\n",
    "        circuits=[psi1, psi2, psi3],\n",
    "        observables=[H1,H2, H3],\n",
    "        parameter_values=[theta1,theta2,theta3]\n",
    "    )\n",
    "    result = job.result()\n",
    "    print(result)"
   ]
  },
  {
   "cell_type": "code",
   "execution_count": null,
   "id": "2f743736",
   "metadata": {},
   "outputs": [],
   "source": []
  }
 ],
 "metadata": {
  "kernelspec": {
   "display_name": "Qiskit (stable)",
   "language": "python",
   "name": "qiskit-stable"
  },
  "language_info": {
   "codemirror_mode": {
    "name": "ipython",
    "version": 3
   },
   "file_extension": ".py",
   "mimetype": "text/x-python",
   "name": "python",
   "nbconvert_exporter": "python",
   "pygments_lexer": "ipython3",
   "version": "3.9.13"
  }
 },
 "nbformat": 4,
 "nbformat_minor": 5
}
